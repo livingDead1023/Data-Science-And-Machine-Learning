{
 "cells": [
  {
   "cell_type": "markdown",
   "metadata": {},
   "source": [
    "# NumPy Arrays\n",
    "<hr>\n",
    "\n",
    "NumPy arrays are of two types:\n",
    " 1. <b><u>Vectors</u></b> - Vectors are one-dimensional arrays, as determined by the number of square brackets [], which is only one. It can be of any length.\n",
    " 2. <b><u>Matrices</u></b>  - Matrices are two-dimensional arrays, in which the length of the arrays should be the same. The dimensions of the Matrix are determined by the length of the array and the number of square brackets [] at the beginning. The length and the number of arrays can be anything of your choice; however keep in mind that the length of the array should be kept the same throughout all the arrays in the matrix."
   ]
  },
  {
   "cell_type": "markdown",
   "metadata": {},
   "source": [
    "<hr width = \"40%\" height = 1px style = \"colour: #CCCCCC\">\n",
    "\n",
    "## Simple Implementation \n",
    "Now let's learn how to actually code and implement these NumPy arrays."
   ]
  },
  {
   "cell_type": "code",
   "execution_count": null,
   "metadata": {},
   "outputs": [
    {
     "name": "stdout",
     "output_type": "stream",
     "text": [
      "These are all the lists.\n",
      "[0, 1, 2, 3, 4, 5] [6, 7, 8, 9, 10, 11] [12, 13, 14, 15, 16, 17]\n",
      "\n",
      "The following are Arrays:\n",
      "\n",
      "Vector\n",
      "[0 1 2 3 4 5]\n",
      "\n",
      "Matrix\n",
      "[[ 0  1  2  3  4  5]\n",
      " [ 6  7  8  9 10 11]\n",
      " [12 13 14 15 16 17]]\n"
     ]
    }
   ],
   "source": [
    "import numpy as np\n",
    "\n",
    "list1 = [0,1,2,3,4,5]\n",
    "list2 = [6,7,8,9,10,11]\n",
    "list3 = [12,13,14,15,16,17]\n",
    "\n",
    "arr1 = np.array(list1) # Vector\n",
    "arr2 = np.array((list1, list2, list3)) # Matrix\n",
    "\n",
    "print('These are all the lists.')\n",
    "print(list1,list2,list3)\n",
    "print('')\n",
    "print('The following are Arrays:\\n\\nVector')\n",
    "print(arr1)\n",
    "print('')\n",
    "print('Matrix')\n",
    "print(arr2)"
   ]
  },
  {
   "cell_type": "markdown",
   "metadata": {},
   "source": [
    "<hr width = \"40%\" height = 1px style = \"colour: #CCCCCC\">\n",
    "<br>\n",
    "We can validate the difference between a list and an array by running the following cells; we see tat when we make an array the typecast \"array\" is visible, however in case of a list it simply appears in square brackets []."
   ]
  },
  {
   "cell_type": "code",
   "execution_count": 16,
   "metadata": {},
   "outputs": [
    {
     "data": {
      "text/plain": [
       "[1, 2, 3, 4, 5]"
      ]
     },
     "execution_count": 16,
     "metadata": {},
     "output_type": "execute_result"
    }
   ],
   "source": [
    "list([1,2,3,4,5])"
   ]
  },
  {
   "cell_type": "code",
   "execution_count": 17,
   "metadata": {},
   "outputs": [
    {
     "data": {
      "text/plain": [
       "array([1, 2, 3, 4, 5])"
      ]
     },
     "execution_count": 17,
     "metadata": {},
     "output_type": "execute_result"
    }
   ],
   "source": [
    "np.array([1,2,3,4,5])"
   ]
  },
  {
   "cell_type": "markdown",
   "metadata": {},
   "source": [
    "<hr width = \"40%\" height = 1px style = \"colour: #CCCCCC\">"
   ]
  },
  {
   "cell_type": "markdown",
   "metadata": {},
   "source": [
    "## Special NumPy Array Commands"
   ]
  },
  {
   "cell_type": "markdown",
   "metadata": {},
   "source": [
    "We can use the following code to create an array consisting of a range of numbers(from start to stop) :\n",
    "\n",
    "     np.arange(start, stop+1, step)\n"
   ]
  },
  {
   "cell_type": "code",
   "execution_count": 20,
   "metadata": {},
   "outputs": [
    {
     "data": {
      "text/plain": [
       "array([ 0,  2,  4,  6,  8, 10, 12, 14, 16, 18, 20, 22, 24, 26, 28, 30, 32,\n",
       "       34, 36, 38, 40, 42, 44, 46, 48, 50, 52, 54, 56, 58, 60, 62, 64, 66,\n",
       "       68, 70, 72, 74, 76, 78, 80, 82, 84, 86, 88, 90, 92, 94, 96, 98])"
      ]
     },
     "execution_count": 20,
     "metadata": {},
     "output_type": "execute_result"
    }
   ],
   "source": [
    "np.arange(0,100, 2)"
   ]
  },
  {
   "cell_type": "markdown",
   "metadata": {},
   "source": [
    "We can make other special arrays consisting of all zeros or all ones using the following commands:\n"
   ]
  },
  {
   "cell_type": "markdown",
   "metadata": {},
   "source": [
    "     np.zeros(x) \n",
    "     # To make a vector of length 'x', consisting of only 0.\n",
    "     np.ones(x) \n",
    "     # To make a vector of length 'x', consisting of only 1.\n"
   ]
  },
  {
   "cell_type": "markdown",
   "metadata": {},
   "source": [
    "And if we want to make a matrix of dimensions x * y\n"
   ]
  },
  {
   "cell_type": "markdown",
   "metadata": {},
   "source": [
    "     np.zeros((x,y))  \n",
    "     # To make a matrix of length 'x * y', consisting of only 0.\n",
    "     np.ones((x,y))  \n",
    "     # To make a matrix of length 'x * y', consisting of only 1."
   ]
  },
  {
   "cell_type": "code",
   "execution_count": 23,
   "metadata": {},
   "outputs": [],
   "source": [
    "x = 5\n",
    "y = 6"
   ]
  },
  {
   "cell_type": "code",
   "execution_count": 24,
   "metadata": {},
   "outputs": [
    {
     "data": {
      "text/plain": [
       "array([0., 0., 0., 0., 0.])"
      ]
     },
     "execution_count": 24,
     "metadata": {},
     "output_type": "execute_result"
    }
   ],
   "source": [
    "np.zeros(x)"
   ]
  },
  {
   "cell_type": "code",
   "execution_count": 25,
   "metadata": {},
   "outputs": [
    {
     "data": {
      "text/plain": [
       "array([1., 1., 1., 1., 1.])"
      ]
     },
     "execution_count": 25,
     "metadata": {},
     "output_type": "execute_result"
    }
   ],
   "source": [
    "np.ones(x)"
   ]
  },
  {
   "cell_type": "code",
   "execution_count": 27,
   "metadata": {},
   "outputs": [
    {
     "data": {
      "text/plain": [
       "array([[0., 0., 0., 0., 0., 0.],\n",
       "       [0., 0., 0., 0., 0., 0.],\n",
       "       [0., 0., 0., 0., 0., 0.],\n",
       "       [0., 0., 0., 0., 0., 0.],\n",
       "       [0., 0., 0., 0., 0., 0.]])"
      ]
     },
     "execution_count": 27,
     "metadata": {},
     "output_type": "execute_result"
    }
   ],
   "source": [
    "np.zeros((x,y))"
   ]
  },
  {
   "cell_type": "code",
   "execution_count": 28,
   "metadata": {},
   "outputs": [
    {
     "data": {
      "text/plain": [
       "array([[1., 1., 1., 1., 1., 1.],\n",
       "       [1., 1., 1., 1., 1., 1.],\n",
       "       [1., 1., 1., 1., 1., 1.],\n",
       "       [1., 1., 1., 1., 1., 1.],\n",
       "       [1., 1., 1., 1., 1., 1.]])"
      ]
     },
     "execution_count": 28,
     "metadata": {},
     "output_type": "execute_result"
    }
   ],
   "source": [
    "np.ones((x,y))"
   ]
  },
  {
   "cell_type": "markdown",
   "metadata": {},
   "source": [
    "To get evenly spaced points between x and y we can use the following command:\n",
    "\n",
    "     np.linspace(x,y,endpoints)"
   ]
  },
  {
   "cell_type": "code",
   "execution_count": 31,
   "metadata": {},
   "outputs": [
    {
     "data": {
      "text/plain": [
       "array([5.        , 5.01010101, 5.02020202, 5.03030303, 5.04040404,\n",
       "       5.05050505, 5.06060606, 5.07070707, 5.08080808, 5.09090909,\n",
       "       5.1010101 , 5.11111111, 5.12121212, 5.13131313, 5.14141414,\n",
       "       5.15151515, 5.16161616, 5.17171717, 5.18181818, 5.19191919,\n",
       "       5.2020202 , 5.21212121, 5.22222222, 5.23232323, 5.24242424,\n",
       "       5.25252525, 5.26262626, 5.27272727, 5.28282828, 5.29292929,\n",
       "       5.3030303 , 5.31313131, 5.32323232, 5.33333333, 5.34343434,\n",
       "       5.35353535, 5.36363636, 5.37373737, 5.38383838, 5.39393939,\n",
       "       5.4040404 , 5.41414141, 5.42424242, 5.43434343, 5.44444444,\n",
       "       5.45454545, 5.46464646, 5.47474747, 5.48484848, 5.49494949,\n",
       "       5.50505051, 5.51515152, 5.52525253, 5.53535354, 5.54545455,\n",
       "       5.55555556, 5.56565657, 5.57575758, 5.58585859, 5.5959596 ,\n",
       "       5.60606061, 5.61616162, 5.62626263, 5.63636364, 5.64646465,\n",
       "       5.65656566, 5.66666667, 5.67676768, 5.68686869, 5.6969697 ,\n",
       "       5.70707071, 5.71717172, 5.72727273, 5.73737374, 5.74747475,\n",
       "       5.75757576, 5.76767677, 5.77777778, 5.78787879, 5.7979798 ,\n",
       "       5.80808081, 5.81818182, 5.82828283, 5.83838384, 5.84848485,\n",
       "       5.85858586, 5.86868687, 5.87878788, 5.88888889, 5.8989899 ,\n",
       "       5.90909091, 5.91919192, 5.92929293, 5.93939394, 5.94949495,\n",
       "       5.95959596, 5.96969697, 5.97979798, 5.98989899, 6.        ])"
      ]
     },
     "execution_count": 31,
     "metadata": {},
     "output_type": "execute_result"
    }
   ],
   "source": [
    "np.linspace(x,y,100)"
   ]
  },
  {
   "cell_type": "markdown",
   "metadata": {},
   "source": [
    "To make an indentity matrix we use the following command:\n",
    "\n",
    "     np.eye(x, y, k) # k is a constant which determines if it is an upper(if positive) or lower(if negative) diagonal\n"
   ]
  },
  {
   "cell_type": "code",
   "execution_count": 38,
   "metadata": {},
   "outputs": [
    {
     "data": {
      "text/plain": [
       "array([[0., 1., 0., 0., 0., 0.],\n",
       "       [0., 0., 1., 0., 0., 0.],\n",
       "       [0., 0., 0., 1., 0., 0.],\n",
       "       [0., 0., 0., 0., 1., 0.],\n",
       "       [0., 0., 0., 0., 0., 1.]])"
      ]
     },
     "execution_count": 38,
     "metadata": {},
     "output_type": "execute_result"
    }
   ],
   "source": [
    "np.eye(x,y,1)"
   ]
  },
  {
   "cell_type": "markdown",
   "metadata": {},
   "source": [
    "<hr width = \"40%\" height = 1px style = \"colour: #CCCCCC\">"
   ]
  },
  {
   "cell_type": "markdown",
   "metadata": {},
   "source": [
    "## Some Common NumPy Random Methods"
   ]
  },
  {
   "cell_type": "code",
   "execution_count": null,
   "metadata": {},
   "outputs": [
    {
     "data": {
      "text/plain": [
       "array([0.37225858, 0.88214324, 0.50499087, 0.93588127, 0.47323555])"
      ]
     },
     "execution_count": 40,
     "metadata": {},
     "output_type": "execute_result"
    }
   ],
   "source": [
    "np.random.rand(5) # To make a vector consisting of 5 random uniform values from 0 to 1"
   ]
  },
  {
   "cell_type": "code",
   "execution_count": null,
   "metadata": {},
   "outputs": [
    {
     "data": {
      "text/plain": [
       "array([[0.94950404, 0.37606783, 0.83645175, 0.64465471, 0.26312382],\n",
       "       [0.45275567, 0.24805845, 0.36068266, 0.22170711, 0.87836939],\n",
       "       [0.26034431, 0.62775921, 0.81198195, 0.04863693, 0.69198829],\n",
       "       [0.38262554, 0.20625932, 0.91012937, 0.89936439, 0.8706372 ],\n",
       "       [0.68070392, 0.39143533, 0.59448531, 0.85148825, 0.45662149]])"
      ]
     },
     "execution_count": 41,
     "metadata": {},
     "output_type": "execute_result"
    }
   ],
   "source": [
    "np.random.rand(5,5) # To make a matrix consisting of 25(5*5) random uniform values from 0 to 1"
   ]
  },
  {
   "cell_type": "code",
   "execution_count": null,
   "metadata": {},
   "outputs": [
    {
     "data": {
      "text/plain": [
       "array([ 0.76826322,  2.48731157,  1.75750566, -0.14096035,  0.44318506])"
      ]
     },
     "execution_count": 42,
     "metadata": {},
     "output_type": "execute_result"
    }
   ],
   "source": [
    "np.random.randn(5)"
   ]
  },
  {
   "cell_type": "code",
   "execution_count": 43,
   "metadata": {},
   "outputs": [
    {
     "data": {
      "text/plain": [
       "array([[ 1.38513967,  0.76828575,  1.08499161, -0.16315531,  2.87889878],\n",
       "       [-1.23093706,  1.1044809 , -0.92845944,  0.41937249,  0.069168  ],\n",
       "       [ 1.45824825, -0.1313039 ,  0.49504387, -0.92604105, -0.69587288],\n",
       "       [ 0.47555769,  1.17833544,  0.14217888,  1.58659246,  0.64448681],\n",
       "       [ 1.13658944, -1.94170823,  1.76337107,  1.1822648 ,  0.58436478]])"
      ]
     },
     "execution_count": 43,
     "metadata": {},
     "output_type": "execute_result"
    }
   ],
   "source": [
    "np.random.randn(5,5)"
   ]
  },
  {
   "cell_type": "code",
   "execution_count": 44,
   "metadata": {},
   "outputs": [
    {
     "data": {
      "text/plain": [
       "41"
      ]
     },
     "execution_count": 44,
     "metadata": {},
     "output_type": "execute_result"
    }
   ],
   "source": [
    "np.random.randint(1,100)"
   ]
  },
  {
   "cell_type": "code",
   "execution_count": 47,
   "metadata": {},
   "outputs": [
    {
     "data": {
      "text/plain": [
       "array([[[18, 47, 33, 25, 82, 10],\n",
       "        [16, 95, 22, 60, 32,  2],\n",
       "        [80, 64, 92, 73, 22, 97]],\n",
       "\n",
       "       [[28, 34, 37, 21, 77, 90],\n",
       "        [32, 62, 72, 59, 30, 48],\n",
       "        [86, 49, 26, 89, 85, 40]],\n",
       "\n",
       "       [[38,  7, 36, 44, 70, 33],\n",
       "        [18, 56, 58, 21,  7, 32],\n",
       "        [60, 96, 78,  9, 98, 41]],\n",
       "\n",
       "       [[63, 60, 39, 22, 52, 26],\n",
       "        [86, 14, 23,  3, 38, 72],\n",
       "        [80, 72, 29, 28, 98,  7]],\n",
       "\n",
       "       [[74, 67, 51,  9, 78,  2],\n",
       "        [18, 74, 59, 84, 86, 47],\n",
       "        [50, 70, 64, 57, 93, 30]]])"
      ]
     },
     "execution_count": 47,
     "metadata": {},
     "output_type": "execute_result"
    }
   ],
   "source": [
    "np.random.randint(1,100,(x,3,y))"
   ]
  },
  {
   "cell_type": "markdown",
   "metadata": {},
   "source": [
    "## Reshaping Arrays\n",
    "Returns an array containing the same data with a new shape.\n",
    "     \n",
    "     arr.reshape(len,width)"
   ]
  },
  {
   "cell_type": "code",
   "execution_count": 50,
   "metadata": {},
   "outputs": [
    {
     "data": {
      "text/plain": [
       "array([[0, 1],\n",
       "       [2, 3],\n",
       "       [4, 5]])"
      ]
     },
     "execution_count": 50,
     "metadata": {},
     "output_type": "execute_result"
    }
   ],
   "source": [
    "arr1.reshape(3,2)"
   ]
  },
  {
   "cell_type": "markdown",
   "metadata": {},
   "source": [
    "## Shape Attribute\n",
    "\n",
    "Shape is an attribute that arrays have (not a method):\n",
    "\n",
    "     arr.shape"
   ]
  },
  {
   "cell_type": "code",
   "execution_count": 51,
   "metadata": {},
   "outputs": [
    {
     "data": {
      "text/plain": [
       "(6,)"
      ]
     },
     "execution_count": 51,
     "metadata": {},
     "output_type": "execute_result"
    }
   ],
   "source": [
    "arr1.shape"
   ]
  },
  {
   "cell_type": "code",
   "execution_count": 52,
   "metadata": {},
   "outputs": [
    {
     "data": {
      "text/plain": [
       "(3, 2)"
      ]
     },
     "execution_count": 52,
     "metadata": {},
     "output_type": "execute_result"
    }
   ],
   "source": [
    "arr1.reshape(3,2).shape"
   ]
  },
  {
   "cell_type": "markdown",
   "metadata": {},
   "source": [
    "## dtype Attribute\n",
    "\n",
    "You can also grab the data type of the object in the array using the following code:\n",
    "     \n",
    "     arr.dtype"
   ]
  },
  {
   "cell_type": "code",
   "execution_count": 53,
   "metadata": {},
   "outputs": [
    {
     "data": {
      "text/plain": [
       "dtype('int64')"
      ]
     },
     "execution_count": 53,
     "metadata": {},
     "output_type": "execute_result"
    }
   ],
   "source": [
    "arr1.dtype"
   ]
  },
  {
   "cell_type": "markdown",
   "metadata": {},
   "source": [
    "<hr>"
   ]
  }
 ],
 "metadata": {
  "kernelspec": {
   "display_name": "Python 3",
   "language": "python",
   "name": "python3"
  },
  "language_info": {
   "codemirror_mode": {
    "name": "ipython",
    "version": 3
   },
   "file_extension": ".py",
   "mimetype": "text/x-python",
   "name": "python",
   "nbconvert_exporter": "python",
   "pygments_lexer": "ipython3",
   "version": "3.12.1"
  }
 },
 "nbformat": 4,
 "nbformat_minor": 2
}
