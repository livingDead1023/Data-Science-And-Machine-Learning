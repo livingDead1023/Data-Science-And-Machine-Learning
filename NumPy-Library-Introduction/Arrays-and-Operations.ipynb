# NumPy Arrays and Operations 
An array can be of <b>two types</b>:
   1. Vector
   2. Matrix

